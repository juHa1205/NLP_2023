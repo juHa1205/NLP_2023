{
  "nbformat": 4,
  "nbformat_minor": 0,
  "metadata": {
    "colab": {
      "provenance": [],
      "authorship_tag": "ABX9TyOC2zzsafbJ/6C5i/QodwNG",
      "include_colab_link": true
    },
    "kernelspec": {
      "name": "python3",
      "display_name": "Python 3"
    },
    "language_info": {
      "name": "python"
    }
  },
  "cells": [
    {
      "cell_type": "markdown",
      "metadata": {
        "id": "view-in-github",
        "colab_type": "text"
      },
      "source": [
        "<a href=\"https://colab.research.google.com/github/juHa1205/NLP_2023/blob/main/0926.ipynb\" target=\"_parent\"><img src=\"https://colab.research.google.com/assets/colab-badge.svg\" alt=\"Open In Colab\"/></a>"
      ]
    },
    {
      "cell_type": "code",
      "execution_count": null,
      "metadata": {
        "id": "QYDoTxGVN8nR"
      },
      "outputs": [],
      "source": [
        "str_data = 'I love python'\n",
        "list_data = ['apple', 'banana', 'grapes', 'mango']\n",
        "tuple_data = ('apple', 'banana', 'grapes', 'mango')\n",
        "\n",
        "print (str_data)\n",
        "print (list_data)\n",
        "print(tuple_data)"
      ]
    },
    {
      "cell_type": "code",
      "source": [
        "str_data = 'I love python'\n",
        "list_data = ['apple', 'banana', 'grapes', 'mango']\n",
        "tuple_data = ('apple', 'banana', 'grapes', 'mango')\n",
        "\n",
        "print(str_data)\n",
        "print(list_data)\n",
        "print(tuple_data)"
      ],
      "metadata": {
        "id": "53g0puCHN_2r"
      },
      "execution_count": null,
      "outputs": []
    },
    {
      "cell_type": "code",
      "source": [
        "strdata=\"I love Python\"\n",
        "print(strdata[0])\n",
        "print(strdata[1])\n",
        "print(strdata[2])\n",
        "print(strdata[3])\n",
        "print(strdata[4])\n",
        "print(strdata[5])\n",
        "print(strdata[6])\n",
        "print(strdata[7])\n",
        "print(strdata[8])\n",
        "print(strdata[9])\n",
        "print(strdata[10])\n",
        "print(strdata[11])\n",
        "print(strdata[12])"
      ],
      "metadata": {
        "id": "AZ7RPCgKN_-5"
      },
      "execution_count": null,
      "outputs": []
    },
    {
      "cell_type": "code",
      "source": [
        "strdata = \"I love Python\"\n",
        "print(strdata[-1])\n",
        "print(strdata[-2])\n",
        "print(strdata[-3])\n",
        "print(strdata[-6])\n",
        "print(strdata[-7])\n",
        "print(strdata[-12])"
      ],
      "metadata": {
        "id": "oLWwaVTSOAKB"
      },
      "execution_count": null,
      "outputs": []
    },
    {
      "cell_type": "code",
      "source": [
        "strdata1 = \"I'm very good\"\n",
        "print(strdata1[0])\n",
        "print(strdata1[1])\n",
        "print(strdata1[2])\n",
        "print(strdata1[3])\n",
        "print(strdata1[4])\n",
        "print(strdata1[5])\n",
        "print(strdata1[6])\n",
        "print(strdata1[7])\n",
        "print(strdata1[8])\n",
        "print(strdata1[9])\n",
        "print(strdata1[10])\n",
        "print(strdata1[11])\n",
        "print(strdata1[12])"
      ],
      "metadata": {
        "id": "xUtLQF2JOrOb"
      },
      "execution_count": null,
      "outputs": []
    },
    {
      "cell_type": "code",
      "source": [
        "listdata = [1,2,[1,2,3]]\n",
        "print(listdata[0])\n",
        "print(listdata[-1])\n",
        "print(listdata[2][-1])"
      ],
      "metadata": {
        "id": "U4B4FrLgQ1TA"
      },
      "execution_count": null,
      "outputs": []
    },
    {
      "cell_type": "code",
      "source": [
        "listdata1=[100,200,[500,600,700]]\n",
        "print(listdata1[2][0])"
      ],
      "metadata": {
        "id": "SRPe9s1mRWQq"
      },
      "execution_count": null,
      "outputs": []
    },
    {
      "cell_type": "code",
      "source": [
        "list_data = ['apple', 'banana', 'grapes', 'mango']\n",
        "print(list_data)\n",
        "list_data[0]=\"shine musket\"\n",
        "\n",
        "print (list_data)"
      ],
      "metadata": {
        "id": "FYc3xlYUS5w4"
      },
      "execution_count": null,
      "outputs": []
    },
    {
      "cell_type": "code",
      "source": [
        "tuple_data = ('watermelon', 'melone', 'peach', 'strawberry')\n",
        "#튜플은 처음 데이터를 수정(대체)못함.\n",
        "tuple_data[0]=\"shine musket\"\n",
        "\n",
        "print (tuple_data)"
      ],
      "metadata": {
        "id": "Gs4G8Ed0S6PP"
      },
      "execution_count": null,
      "outputs": []
    },
    {
      "cell_type": "code",
      "source": [
        "str_data = 'Time is money!!'\n",
        "print(str_data[1:5])\n",
        "print(str_data[:7])\n",
        "print(str_data[9:])\n",
        "print(str_data[:-3])\n",
        "print(str_data[-3:])\n",
        "print(str_data[:])\n",
        "print(str_data[::2]) # 처음부터 끝까지 스텝을 2로 해서 슬라이싱 하기."
      ],
      "metadata": {
        "id": "CNsL2WHFThrP"
      },
      "execution_count": null,
      "outputs": []
    },
    {
      "cell_type": "code",
      "source": [
        "strdata2='abcdefghijklmno'\n",
        "print(strdata2)\n",
        "print(strdata2[1:5])\n",
        "print(strdata2[:7])\n",
        "print(strdata2[9:])\n",
        "print(strdata2[:-3])\n",
        "print(strdata2[-3:])\n",
        "print(strdata2[:])\n",
        "print(strdata2[::4])# 처음부터 끝까지 스텝을 4로 해서 슬라이싱 하기."
      ],
      "metadata": {
        "id": "f6sis4aqVg_u"
      },
      "execution_count": null,
      "outputs": []
    },
    {
      "cell_type": "code",
      "source": [
        "strdata1 = 'I love ' ; strdata2 = 'Python'\n",
        "print(strdata1)\n",
        "print(strdata2)\n",
        "print(strdata1 + strdata2)\n",
        "print(strdata1*5)"
      ],
      "metadata": {
        "id": "bJlmStOBVheO"
      },
      "execution_count": null,
      "outputs": []
    },
    {
      "cell_type": "code",
      "source": [
        "#@markdown 💊 **Possibility 1️⃣ 💡**\n",
        "\n",
        "strdata1 = 'I love '; strdata2='Python'\n",
        "print (strdata1 + strdata2)"
      ],
      "metadata": {
        "cellView": "form",
        "id": "TZukJKN5Wsee"
      },
      "execution_count": null,
      "outputs": []
    },
    {
      "cell_type": "code",
      "source": [
        "#@markdown 💊 **Possibility 2️⃣ 💡**\n",
        "\n",
        "strdata1 = 'I love '; strdata2=' Python'\n",
        "print (strdata1 + strdata2)"
      ],
      "metadata": {
        "cellView": "form",
        "id": "lQFcpGTwXJM1"
      },
      "execution_count": null,
      "outputs": []
    },
    {
      "cell_type": "code",
      "source": [
        "#@markdown 💊 **Possibility 3️⃣ 💡**\n",
        "\n",
        "strdata1 = 'I love'; strdata0 = ' '; strdata2='Python'\n",
        "print (strdata1 + strdata0 + strdata2)"
      ],
      "metadata": {
        "cellView": "form",
        "id": "0DmZiTheXK71"
      },
      "execution_count": null,
      "outputs": []
    },
    {
      "cell_type": "code",
      "source": [
        "#@markdown 💊 Possibility 1️⃣ 💡\n",
        "\n",
        "subject = 'BTS '; verb= 'sings '; object = 'butter'\n",
        "sentence = subject + verb + object * 5"
      ],
      "metadata": {
        "cellView": "form",
        "id": "l5eWApPJXPfu"
      },
      "execution_count": 17,
      "outputs": []
    },
    {
      "cell_type": "code",
      "source": [
        "subject = 'BTS'; verb= 'sings'; object = 'butter'; space=' '\n",
        "sentence = subject + space + verb + space + object\n",
        "print (sentence)"
      ],
      "metadata": {
        "colab": {
          "base_uri": "https://localhost:8080/"
        },
        "id": "utDRYyNiXmGN",
        "outputId": "bc229a31-f291-481f-b2d3-086ceca4551b"
      },
      "execution_count": 18,
      "outputs": [
        {
          "output_type": "stream",
          "name": "stdout",
          "text": [
            "BTS sings butter\n"
          ]
        }
      ]
    },
    {
      "cell_type": "code",
      "source": [
        "#@markdown 💊 Possibility 1️⃣ 💡\n",
        "\n",
        "subject = 'BTS '; verb= 'sings '; object = 'butter'\n",
        "sentence = subject + verb + object * 5\n",
        "print(sentence)"
      ],
      "metadata": {
        "id": "jq0OAtvsYKi3"
      },
      "execution_count": null,
      "outputs": []
    },
    {
      "cell_type": "code",
      "source": [
        "#@markdown 시퀀스 자료 크기 이해하기 (len)\n",
        "\n",
        "str_data = 'I love Python'\n",
        "print(len(str_data))"
      ],
      "metadata": {
        "id": "X7bIvzMVYVtu"
      },
      "execution_count": null,
      "outputs": []
    }
  ]
}