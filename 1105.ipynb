{
  "nbformat": 4,
  "nbformat_minor": 0,
  "metadata": {
    "colab": {
      "provenance": [],
      "authorship_tag": "ABX9TyM6zM7bLi9PeqyRTgwqhfKy",
      "include_colab_link": true
    },
    "kernelspec": {
      "name": "python3",
      "display_name": "Python 3"
    },
    "language_info": {
      "name": "python"
    }
  },
  "cells": [
    {
      "cell_type": "markdown",
      "metadata": {
        "id": "view-in-github",
        "colab_type": "text"
      },
      "source": [
        "<a href=\"https://colab.research.google.com/github/juHa1205/NLP_2023/blob/main/1105.ipynb\" target=\"_parent\"><img src=\"https://colab.research.google.com/assets/colab-badge.svg\" alt=\"Open In Colab\"/></a>"
      ]
    },
    {
      "cell_type": "code",
      "source": [
        "#연도가 4로 나누어 떨어지고 100으로 나누어 떨어지지 않으면 윤년이다.\n",
        "#또는 연도가 400으로 나누어 떨어지면 윤년이다.\n",
        "\n",
        "\n",
        "year = int(input('연도 입력 : '))\n",
        "\n",
        "if year % 4 == 0 and year % 100 != 0:\n",
        "    print(f'{year}년 : 윤년')\n",
        "elif year % 400 == 0:\n",
        "    print(f'{year}년 : 윤년')\n",
        "else:\n",
        "    print(f'{year}년 : 평년')"
      ],
      "metadata": {
        "colab": {
          "base_uri": "https://localhost:8080/"
        },
        "id": "BEKUL7ZEZIUT",
        "outputId": "f038271f-f8b7-47b5-edb7-af1cdd3c0037"
      },
      "execution_count": null,
      "outputs": [
        {
          "output_type": "stream",
          "name": "stdout",
          "text": [
            "연도 입력 : 2023\n",
            "2023년 : 평년\n"
          ]
        }
      ]
    }
  ]
}