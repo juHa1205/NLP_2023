{
  "nbformat": 4,
  "nbformat_minor": 0,
  "metadata": {
    "colab": {
      "provenance": [],
      "authorship_tag": "ABX9TyMk5PyzcLgJFJSY+Hg3Eqyw",
      "include_colab_link": true
    },
    "kernelspec": {
      "name": "python3",
      "display_name": "Python 3"
    },
    "language_info": {
      "name": "python"
    }
  },
  "cells": [
    {
      "cell_type": "markdown",
      "metadata": {
        "id": "view-in-github",
        "colab_type": "text"
      },
      "source": [
        "<a href=\"https://colab.research.google.com/github/juHa1205/NLP_2023/blob/main/1126.ipynb\" target=\"_parent\"><img src=\"https://colab.research.google.com/assets/colab-badge.svg\" alt=\"Open In Colab\"/></a>"
      ]
    },
    {
      "cell_type": "code",
      "execution_count": 3,
      "metadata": {
        "id": "B9oWXuBPardU"
      },
      "outputs": [],
      "source": [
        "def print_coin():\n",
        "    print(\"비트코인\")"
      ]
    },
    {
      "cell_type": "code",
      "source": [
        "print_coin()"
      ],
      "metadata": {
        "colab": {
          "base_uri": "https://localhost:8080/"
        },
        "id": "ASIk_IzIa7Rv",
        "outputId": "145483e8-1812-47d3-ed40-b55d3e128a2a"
      },
      "execution_count": 4,
      "outputs": [
        {
          "output_type": "stream",
          "name": "stdout",
          "text": [
            "비트코인\n"
          ]
        }
      ]
    },
    {
      "cell_type": "code",
      "source": [
        "for i in range(100):\n",
        "    print_coin()"
      ],
      "metadata": {
        "colab": {
          "base_uri": "https://localhost:8080/"
        },
        "id": "kKHx3N72bVod",
        "outputId": "458e2f5b-d423-4b76-9d01-21b019030c03"
      },
      "execution_count": 5,
      "outputs": [
        {
          "output_type": "stream",
          "name": "stdout",
          "text": [
            "비트코인\n",
            "비트코인\n",
            "비트코인\n",
            "비트코인\n",
            "비트코인\n",
            "비트코인\n",
            "비트코인\n",
            "비트코인\n",
            "비트코인\n",
            "비트코인\n",
            "비트코인\n",
            "비트코인\n",
            "비트코인\n",
            "비트코인\n",
            "비트코인\n",
            "비트코인\n",
            "비트코인\n",
            "비트코인\n",
            "비트코인\n",
            "비트코인\n",
            "비트코인\n",
            "비트코인\n",
            "비트코인\n",
            "비트코인\n",
            "비트코인\n",
            "비트코인\n",
            "비트코인\n",
            "비트코인\n",
            "비트코인\n",
            "비트코인\n",
            "비트코인\n",
            "비트코인\n",
            "비트코인\n",
            "비트코인\n",
            "비트코인\n",
            "비트코인\n",
            "비트코인\n",
            "비트코인\n",
            "비트코인\n",
            "비트코인\n",
            "비트코인\n",
            "비트코인\n",
            "비트코인\n",
            "비트코인\n",
            "비트코인\n",
            "비트코인\n",
            "비트코인\n",
            "비트코인\n",
            "비트코인\n",
            "비트코인\n",
            "비트코인\n",
            "비트코인\n",
            "비트코인\n",
            "비트코인\n",
            "비트코인\n",
            "비트코인\n",
            "비트코인\n",
            "비트코인\n",
            "비트코인\n",
            "비트코인\n",
            "비트코인\n",
            "비트코인\n",
            "비트코인\n",
            "비트코인\n",
            "비트코인\n",
            "비트코인\n",
            "비트코인\n",
            "비트코인\n",
            "비트코인\n",
            "비트코인\n",
            "비트코인\n",
            "비트코인\n",
            "비트코인\n",
            "비트코인\n",
            "비트코인\n",
            "비트코인\n",
            "비트코인\n",
            "비트코인\n",
            "비트코인\n",
            "비트코인\n",
            "비트코인\n",
            "비트코인\n",
            "비트코인\n",
            "비트코인\n",
            "비트코인\n",
            "비트코인\n",
            "비트코인\n",
            "비트코인\n",
            "비트코인\n",
            "비트코인\n",
            "비트코인\n",
            "비트코인\n",
            "비트코인\n",
            "비트코인\n",
            "비트코인\n",
            "비트코인\n",
            "비트코인\n",
            "비트코인\n",
            "비트코인\n",
            "비트코인\n"
          ]
        }
      ]
    },
    {
      "cell_type": "code",
      "source": [
        "def message() :\n",
        "    print(\"A\")\n",
        "    print(\"B\")\n",
        "\n",
        "message()\n",
        "print(\"C\")\n",
        "message()"
      ],
      "metadata": {
        "colab": {
          "base_uri": "https://localhost:8080/"
        },
        "id": "sT3opUhhbYKD",
        "outputId": "4a98d469-b8c7-4bc5-f22c-3215d10cfc93"
      },
      "execution_count": 6,
      "outputs": [
        {
          "output_type": "stream",
          "name": "stdout",
          "text": [
            "A\n",
            "B\n",
            "C\n",
            "A\n",
            "B\n"
          ]
        }
      ]
    },
    {
      "cell_type": "code",
      "source": [
        "def 함수(문자열) :\n",
        "    print(문자열)\n",
        "\n",
        "함수(\"안녕\")\n",
        "함수(\"Hi\")"
      ],
      "metadata": {
        "colab": {
          "base_uri": "https://localhost:8080/"
        },
        "id": "5IzCntKjbeH0",
        "outputId": "180922fe-cbca-4916-9ec7-6cf02fd78082"
      },
      "execution_count": 7,
      "outputs": [
        {
          "output_type": "stream",
          "name": "stdout",
          "text": [
            "안녕\n",
            "Hi\n"
          ]
        }
      ]
    },
    {
      "cell_type": "code",
      "source": [
        "def 함수(a, b) :\n",
        "    print(a + b)\n",
        "\n",
        "함수(3, 4)\n",
        "함수(7, 8)"
      ],
      "metadata": {
        "colab": {
          "base_uri": "https://localhost:8080/"
        },
        "id": "hruXDmklbho1",
        "outputId": "fbcaa036-6912-4d00-962a-c534d4fd73eb"
      },
      "execution_count": 8,
      "outputs": [
        {
          "output_type": "stream",
          "name": "stdout",
          "text": [
            "7\n",
            "15\n"
          ]
        }
      ]
    },
    {
      "cell_type": "code",
      "source": [
        "def print_with_smile (string) :\n",
        "    print (string + \":D\")"
      ],
      "metadata": {
        "id": "cRr3ekQbbkvP"
      },
      "execution_count": 9,
      "outputs": []
    },
    {
      "cell_type": "code",
      "source": [
        "print_with_smile(\"안녕하세요\")"
      ],
      "metadata": {
        "colab": {
          "base_uri": "https://localhost:8080/"
        },
        "id": "svSZ9R8_brtU",
        "outputId": "4d1ce95f-836b-428f-8adf-68673bc8b119"
      },
      "execution_count": 10,
      "outputs": [
        {
          "output_type": "stream",
          "name": "stdout",
          "text": [
            "안녕하세요:D\n"
          ]
        }
      ]
    },
    {
      "cell_type": "code",
      "source": [
        "def print_upper_price(price) :\n",
        "    print(price * 1.3)"
      ],
      "metadata": {
        "id": "Dz2ePwwpbvv-"
      },
      "execution_count": 11,
      "outputs": []
    }
  ]
}