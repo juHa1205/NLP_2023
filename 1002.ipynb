{
  "nbformat": 4,
  "nbformat_minor": 0,
  "metadata": {
    "colab": {
      "provenance": [],
      "authorship_tag": "ABX9TyNki2iPOHvcJUFBkf+rg8Me",
      "include_colab_link": true
    },
    "kernelspec": {
      "name": "python3",
      "display_name": "Python 3"
    },
    "language_info": {
      "name": "python"
    }
  },
  "cells": [
    {
      "cell_type": "markdown",
      "metadata": {
        "id": "view-in-github",
        "colab_type": "text"
      },
      "source": [
        "<a href=\"https://colab.research.google.com/github/juHa1205/NLP_2023/blob/main/1002.ipynb\" target=\"_parent\"><img src=\"https://colab.research.google.com/assets/colab-badge.svg\" alt=\"Open In Colab\"/></a>"
      ]
    },
    {
      "cell_type": "code",
      "execution_count": null,
      "metadata": {
        "id": "_X3BULsHYZhJ"
      },
      "outputs": [],
      "source": [
        "num1 = float(input(\"첫 번째 숫자를 입력하세요: \"))\n",
        "num2 = float(input(\"두 번째 숫자를 입력하세요: \"))\n",
        "\n",
        "addition = num1 + num2\n",
        "print(\"덧셈 결과:\", addition)\n",
        "\n",
        "subtraction = num1 - num2\n",
        "print(\"뺄셈 결과:\", subtraction)\n",
        "\n",
        "multiplication = num1 * num2\n",
        "print(\"곱셈 결과:\", multiplication)\n",
        "\n",
        "if num2 != 0:\n",
        "    division = num1 / num2\n",
        "    print(\"나눗셈 결과:\", division)\n",
        "else:\n",
        "    print(\"0으로 나눌 수 없습니다.\")"
      ]
    }
  ]
}