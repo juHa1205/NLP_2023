{
  "nbformat": 4,
  "nbformat_minor": 0,
  "metadata": {
    "colab": {
      "provenance": [],
      "authorship_tag": "ABX9TyNXARVYgOpE76OC4PRgJ5lU",
      "include_colab_link": true
    },
    "kernelspec": {
      "name": "python3",
      "display_name": "Python 3"
    },
    "language_info": {
      "name": "python"
    }
  },
  "cells": [
    {
      "cell_type": "markdown",
      "metadata": {
        "id": "view-in-github",
        "colab_type": "text"
      },
      "source": [
        "<a href=\"https://colab.research.google.com/github/juHa1205/NLP_2023/blob/main/1006.ipynb\" target=\"_parent\"><img src=\"https://colab.research.google.com/assets/colab-badge.svg\" alt=\"Open In Colab\"/></a>"
      ]
    },
    {
      "cell_type": "code",
      "execution_count": 4,
      "metadata": {
        "colab": {
          "base_uri": "https://localhost:8080/"
        },
        "id": "83hqGLk6kPGk",
        "outputId": "8a1caf8d-913d-42b5-8ec1-d95be776e832"
      },
      "outputs": [
        {
          "output_type": "stream",
          "name": "stdout",
          "text": [
            "점수를 입력하세요65\n",
            "나는 65점 받았습니다.\n",
            "나는 C 받았어\n"
          ]
        }
      ],
      "source": [
        "score = input('점수를 입력하세요')\n",
        "print(\"나는 \" + score + \"점 받았습니다.\")\n",
        "\n",
        "if int(score) >= 90:\n",
        "  print(\"나는 A+ 받았어\")\n",
        "elif int(score) >= 80:\n",
        "  print(\"나는 A 받았어\")\n",
        "elif int(score) >= 70:\n",
        "  print(\"나는 B 받았어\")\n",
        "elif int(score) >= 60:\n",
        "  print(\"나는 C 받았어\")\n",
        "else:\n",
        "  print(\"나는 F 받았어\")\n",
        "\n"
      ]
    }
  ]
}