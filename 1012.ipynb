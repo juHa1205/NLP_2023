{
  "nbformat": 4,
  "nbformat_minor": 0,
  "metadata": {
    "colab": {
      "provenance": [],
      "authorship_tag": "ABX9TyPY/EOx4jbn0UzMnVe+5Lyt",
      "include_colab_link": true
    },
    "kernelspec": {
      "name": "python3",
      "display_name": "Python 3"
    },
    "language_info": {
      "name": "python"
    }
  },
  "cells": [
    {
      "cell_type": "markdown",
      "metadata": {
        "id": "view-in-github",
        "colab_type": "text"
      },
      "source": [
        "<a href=\"https://colab.research.google.com/github/juHa1205/NLP_2023/blob/main/1012.ipynb\" target=\"_parent\"><img src=\"https://colab.research.google.com/assets/colab-badge.svg\" alt=\"Open In Colab\"/></a>"
      ]
    },
    {
      "cell_type": "code",
      "execution_count": 1,
      "metadata": {
        "colab": {
          "base_uri": "https://localhost:8080/"
        },
        "id": "YySWb5b5h_0G",
        "outputId": "aa82e4a3-0cb4-4625-931f-5324753f3341"
      },
      "outputs": [
        {
          "output_type": "stream",
          "name": "stdout",
          "text": [
            "Match: cat\n",
            "Match: hat\n",
            "Match: bat\n",
            "Match: sat\n",
            "Match: mat\n",
            "Match: bat\n",
            "Match: bat\n"
          ]
        }
      ],
      "source": [
        "import re\n",
        "\n",
        "text = \"cat, hat, bat, sat, mat, combat, unbated\"\n",
        "pattern = r\".at\"\n",
        "\n",
        "matches = re.findall(pattern, text)\n",
        "\n",
        "for i in matches:\n",
        "  print(\"Match:\",i)"
      ]
    },
    {
      "cell_type": "code",
      "source": [
        "matches"
      ],
      "metadata": {
        "colab": {
          "base_uri": "https://localhost:8080/"
        },
        "id": "Li2eUbjYoCGU",
        "outputId": "3b680ec8-e7b9-467a-a52b-9ee8a8ac7069"
      },
      "execution_count": 3,
      "outputs": [
        {
          "output_type": "execute_result",
          "data": {
            "text/plain": [
              "['cat', 'hat', 'bat', 'sat', 'mat', 'bat', 'bat']"
            ]
          },
          "metadata": {},
          "execution_count": 3
        }
      ]
    },
    {
      "cell_type": "code",
      "source": [
        "matches[0]"
      ],
      "metadata": {
        "colab": {
          "base_uri": "https://localhost:8080/",
          "height": 35
        },
        "id": "uRVfitNuoFwE",
        "outputId": "a7365820-1075-4857-a705-462f2a325d05"
      },
      "execution_count": 6,
      "outputs": [
        {
          "output_type": "execute_result",
          "data": {
            "text/plain": [
              "'cat'"
            ],
            "application/vnd.google.colaboratory.intrinsic+json": {
              "type": "string"
            }
          },
          "metadata": {},
          "execution_count": 6
        }
      ]
    },
    {
      "cell_type": "code",
      "source": [
        "text2 = \"at, cat, at, hat, bat, sat,mat, combat, unbated\" #첫번째 at가 출력되지 않은 이유: at앞에 공란이 없기 때문\n",
        "pattern = r\".at\"\n",
        "\n",
        "matches =re.findall(pattern,text2)\n",
        "\n",
        "for i in matches:\n",
        "  print(\"Match:\",i)"
      ],
      "metadata": {
        "colab": {
          "base_uri": "https://localhost:8080/"
        },
        "id": "pXxy-DFvoSGN",
        "outputId": "ed00d902-8c1c-436b-e573-22aa45449bbb"
      },
      "execution_count": 9,
      "outputs": [
        {
          "output_type": "stream",
          "name": "stdout",
          "text": [
            "Match:  at\n",
            "Match: cat\n",
            "Match:  at\n",
            "Match: hat\n",
            "Match: bat\n",
            "Match: sat\n",
            "Match: mat\n",
            "Match: bat\n",
            "Match: bat\n"
          ]
        }
      ]
    },
    {
      "cell_type": "code",
      "source": [
        "text3 = \" at, cat, at, hat, bat, sat,mat, combat, unbated\" #첫번째 at가 출력된 이유: at앞에 공란이 있기 때문\n",
        "pattern = r\".at\"\n",
        "\n",
        "matches =re.findall(pattern,text2)\n",
        "\n",
        "for i in matches:\n",
        "  print(\"Match:\",i)"
      ],
      "metadata": {
        "id": "2Ti8rDf0pFBt"
      },
      "execution_count": null,
      "outputs": []
    },
    {
      "cell_type": "code",
      "source": [
        "print(\"나는 한남대학교 \\\"전기전자공학과\\\"를 다니고 있어요\")"
      ],
      "metadata": {
        "colab": {
          "base_uri": "https://localhost:8080/"
        },
        "id": "vUaPN8uAqahn",
        "outputId": "549a505a-8cb2-4b3b-a287-cf9da8fa8c59"
      },
      "execution_count": 15,
      "outputs": [
        {
          "output_type": "stream",
          "name": "stdout",
          "text": [
            "나는 한남대학교 \"전기전자공학과\"를 다니고 있어요\n"
          ]
        }
      ]
    },
    {
      "cell_type": "code",
      "source": [
        "import re\n",
        "\n",
        "text = \"color or colour?\"\n",
        "pattern = r\"colou?r\"\n",
        "\n",
        "matches = re.findall(pattern, text)\n",
        "\n",
        "for i in matches:\n",
        "  print(\"Match: \", i)\n"
      ],
      "metadata": {
        "colab": {
          "base_uri": "https://localhost:8080/"
        },
        "id": "FkPQBydSrBUI",
        "outputId": "a0999e05-cb3c-4cb9-9d88-cca6429bb7e6"
      },
      "execution_count": 16,
      "outputs": [
        {
          "output_type": "stream",
          "name": "stdout",
          "text": [
            "Match:  color\n",
            "Match:  colour\n"
          ]
        }
      ]
    },
    {
      "cell_type": "code",
      "source": [
        "text2 = \"color, colour, or coloer?\"\n",
        "pattern = r\"colou?r\"\n",
        "\n",
        "matches = re.findall(pattern, text2)\n",
        "\n",
        "for i in matches:\n",
        "  print(\"Match:\", i)"
      ],
      "metadata": {
        "colab": {
          "base_uri": "https://localhost:8080/"
        },
        "id": "BhlIhTaxt7u1",
        "outputId": "2ed31526-9c1d-484d-be2f-83b662e69c77"
      },
      "execution_count": 21,
      "outputs": [
        {
          "output_type": "stream",
          "name": "stdout",
          "text": [
            "Match: color\n",
            "Match: colour\n"
          ]
        }
      ]
    },
    {
      "cell_type": "code",
      "source": [
        "import re\n",
        "\n",
        "text = \"ab, ac, abc, abbc, aabbc, abbbbbbbbbc\"\n",
        "pattern = r\"ab*c\"\n",
        "\n",
        "matches = re.findall(pattern, text)\n",
        "\n",
        "for i in matches:\n",
        "  print(\"Match:\", i)"
      ],
      "metadata": {
        "colab": {
          "base_uri": "https://localhost:8080/"
        },
        "id": "5KrMCPcOue_O",
        "outputId": "f04e9e34-3462-41ef-98d8-7afd6dd8fb31"
      },
      "execution_count": 25,
      "outputs": [
        {
          "output_type": "stream",
          "name": "stdout",
          "text": [
            "Match: ac\n",
            "Match: abc\n",
            "Match: abbc\n",
            "Match: abbc\n",
            "Match: abbbbbbbbbc\n"
          ]
        }
      ]
    },
    {
      "cell_type": "code",
      "source": [
        "import re\n",
        "\n",
        "text = \"Python is a popular programming language. Python is versatile.\"\n",
        "pattern = r'versatile.$'\n",
        "\n",
        "matches = re.findall(pattern, text)\n",
        "\n",
        "for i in matches:\n",
        "    print(\"Match:\", i)"
      ],
      "metadata": {
        "colab": {
          "base_uri": "https://localhost:8080/"
        },
        "id": "UejSdKqevJwY",
        "outputId": "f5cc7679-1e56-4738-e369-63cec22190f1"
      },
      "execution_count": 30,
      "outputs": [
        {
          "output_type": "stream",
          "name": "stdout",
          "text": [
            "Match: versatile.\n"
          ]
        }
      ]
    },
    {
      "cell_type": "code",
      "source": [
        "import re\n",
        "\n",
        "text = \"Python is a popular programming language. Python is versatile.\"\n",
        "pattern = r'tile.$'\n",
        "\n",
        "matches = re.findall(pattern, text)\n",
        "\n",
        "for i in matches:\n",
        "    print(\"Match:\", i)"
      ],
      "metadata": {
        "colab": {
          "base_uri": "https://localhost:8080/"
        },
        "id": "1VMsItiLwX8h",
        "outputId": "6cc5d508-1a19-49a1-a9bd-5451014e3ef3"
      },
      "execution_count": 31,
      "outputs": [
        {
          "output_type": "stream",
          "name": "stdout",
          "text": [
            "Match: tile.\n"
          ]
        }
      ]
    },
    {
      "cell_type": "code",
      "source": [
        "import re\n",
        "\n",
        "text = \"Python is a popular programming language. Python is versatile:\"\n",
        "pattern = r'language.$'\n",
        "\n",
        "matches = re.findall(pattern, text)\n",
        "\n",
        "for i in matches:\n",
        "    print(\"Match:\", i)\n",
        "\n",
        "#여기까지 시험범위"
      ],
      "metadata": {
        "id": "BZD-NH9qw6ew"
      },
      "execution_count": 35,
      "outputs": []
    }
  ]
}