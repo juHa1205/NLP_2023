{
  "nbformat": 4,
  "nbformat_minor": 0,
  "metadata": {
    "colab": {
      "provenance": [],
      "authorship_tag": "ABX9TyMtVv/WuC2dfNmKay+kWH1L",
      "include_colab_link": true
    },
    "kernelspec": {
      "name": "python3",
      "display_name": "Python 3"
    },
    "language_info": {
      "name": "python"
    }
  },
  "cells": [
    {
      "cell_type": "markdown",
      "metadata": {
        "id": "view-in-github",
        "colab_type": "text"
      },
      "source": [
        "<a href=\"https://colab.research.google.com/github/juHa1205/NLP_2023/blob/main/1028.ipynb\" target=\"_parent\"><img src=\"https://colab.research.google.com/assets/colab-badge.svg\" alt=\"Open In Colab\"/></a>"
      ]
    },
    {
      "cell_type": "code",
      "execution_count": null,
      "metadata": {
        "id": "cyhpC5RA5Ftl",
        "colab": {
          "base_uri": "https://localhost:8080/"
        },
        "outputId": "1ef25e32-b453-4df4-c2f0-47839ca7f0e7"
      },
      "outputs": [
        {
          "output_type": "stream",
          "name": "stdout",
          "text": [
            "5\n",
            "5\n"
          ]
        }
      ],
      "source": [
        "c = input()\n",
        "print(c)"
      ]
    },
    {
      "cell_type": "code",
      "source": [
        "x=input()\n",
        "print(\"%d\",x)"
      ],
      "metadata": {
        "colab": {
          "base_uri": "https://localhost:8080/"
        },
        "id": "qmmFv9i7q2ck",
        "outputId": "6c218340-10d9-4dc6-953f-1cbc33b3b306"
      },
      "execution_count": null,
      "outputs": [
        {
          "output_type": "stream",
          "name": "stdout",
          "text": [
            "45\n",
            "%d 45\n"
          ]
        }
      ]
    },
    {
      "cell_type": "code",
      "source": [
        "print('\"!@#$%^&*()\"')"
      ],
      "metadata": {
        "id": "bCk7RuytrE86",
        "colab": {
          "base_uri": "https://localhost:8080/"
        },
        "outputId": "4a3b4f44-61ae-4e74-ffe3-fee903fd9a54"
      },
      "execution_count": 3,
      "outputs": [
        {
          "output_type": "stream",
          "name": "stdout",
          "text": [
            "\"!@#$%^&*()\"\n"
          ]
        }
      ]
    },
    {
      "cell_type": "code",
      "source": [
        "print('\"C:\\Download\\hello.cpp\"')"
      ],
      "metadata": {
        "colab": {
          "base_uri": "https://localhost:8080/"
        },
        "id": "ODgCvpwNtloo",
        "outputId": "6a29fc86-6ba3-4bb5-eae3-9e61974b4cff"
      },
      "execution_count": 4,
      "outputs": [
        {
          "output_type": "stream",
          "name": "stdout",
          "text": [
            "\"C:\\Download\\hello.cpp\"\n"
          ]
        }
      ]
    },
    {
      "cell_type": "code",
      "source": [
        "print('\\u250C\\u252C\\u2510')\n",
        "print('\\u251C\\u253C\\u2524')\n",
        "print('\\u2514\\u2534\\u2518')"
      ],
      "metadata": {
        "colab": {
          "base_uri": "https://localhost:8080/"
        },
        "id": "KTzFY_EEtukr",
        "outputId": "0d794c3f-2bf4-4734-b2fc-3f779473bea2"
      },
      "execution_count": 5,
      "outputs": [
        {
          "output_type": "stream",
          "name": "stdout",
          "text": [
            "┌┬┐\n",
            "├┼┤\n",
            "└┴┘\n"
          ]
        }
      ]
    },
    {
      "cell_type": "code",
      "source": [],
      "metadata": {
        "id": "f2S4tnxPtz2b"
      },
      "execution_count": null,
      "outputs": []
    }
  ]
}