{
  "nbformat": 4,
  "nbformat_minor": 0,
  "metadata": {
    "colab": {
      "provenance": [],
      "authorship_tag": "ABX9TyOuiuFDai93e+GB1iuvG1Es",
      "include_colab_link": true
    },
    "kernelspec": {
      "name": "python3",
      "display_name": "Python 3"
    },
    "language_info": {
      "name": "python"
    }
  },
  "cells": [
    {
      "cell_type": "markdown",
      "metadata": {
        "id": "view-in-github",
        "colab_type": "text"
      },
      "source": [
        "<a href=\"https://colab.research.google.com/github/juHa1205/NLP_2023/blob/main/0921.ipynb\" target=\"_parent\"><img src=\"https://colab.research.google.com/assets/colab-badge.svg\" alt=\"Open In Colab\"/></a>"
      ]
    },
    {
      "cell_type": "code",
      "execution_count": null,
      "metadata": {
        "colab": {
          "base_uri": "https://localhost:8080/"
        },
        "id": "iLiA-f5MZRE7",
        "outputId": "5685bf4a-ec52-4a68-c0cc-46366e761691"
      },
      "outputs": [
        {
          "output_type": "stream",
          "name": "stdout",
          "text": [
            "['Mercury', 'Venus', 'Earth', 'Mars', 'Jupiter', 'Saturn', 'Uranus', 'Neptune']\n",
            "['수성', '금성', '지구', '화성', '목성', '토성', '천왕성', '혜왕성']\n",
            "[1, 2, 3, 4, 5, 6, 7, 8]\n"
          ]
        }
      ],
      "source": [
        "#리스트[]\n",
        "d = ['Mercury','Venus','Earth','Mars','Jupiter','Saturn','Uranus','Neptune']\n",
        "print(d)\n",
        "\n",
        "e = [\"수성\",\"금성\",\"지구\",\"화성\",\"목성\",\"토성\",\"천왕성\",\"혜왕성\"]\n",
        "print(e)\n",
        "\n",
        "f = [1,2,3,4,5,6,7,8]\n",
        "print(f)"
      ]
    },
    {
      "cell_type": "code",
      "source": [
        "#튜플{}\n",
        "g = {'Mercury','Venus','Earth','Mars','Jupiter','Saturn','Uranus','Neptune'}\n",
        "print(g)\n",
        "\n",
        "h = {\"수성\",\"금성\",\"지구\",\"화성\",\"목성\",\"토성\",\"천왕성\",\"혜왕성\"}\n",
        "print(h)\n",
        "\n",
        "i = {1,2,3,4,5,6,7,8}\n",
        "print(i)"
      ],
      "metadata": {
        "colab": {
          "base_uri": "https://localhost:8080/"
        },
        "id": "T2fkbbweaTLY",
        "outputId": "5ab291e1-8b2e-4ddb-8c99-032d30b93cbf"
      },
      "execution_count": null,
      "outputs": [
        {
          "output_type": "stream",
          "name": "stdout",
          "text": [
            "{'Neptune', 'Mars', 'Venus', 'Uranus', 'Jupiter', 'Saturn', 'Mercury', 'Earth'}\n",
            "{'혜왕성', '화성', '지구', '목성', '수성', '금성', '천왕성', '토성'}\n",
            "{1, 2, 3, 4, 5, 6, 7, 8}\n"
          ]
        }
      ]
    },
    {
      "cell_type": "code",
      "source": [
        "#dictionary data\n",
        "k={'Mercury':'수성','Venus' : '금성', 'Earth' : '지구', 'Mars':'화성','Jupiter':'목성','Saturn':'토성','Uranus':'천왕성','Neptune':'해왕성'}\n",
        "print(k)\n",
        "print(k['Uranus'])\n",
        "\n",
        "m = {'Mercury 수성':1,'Venus 금성':2,'Earth 지구':3,'Mars 화성':4,'Jupiter 목성':5,'Saturn 토성':6,'Uranus 천왕성':7,'Neptune 해왕성':8}\n",
        "print(m)\n",
        "print(m['Venus 금성'])"
      ],
      "metadata": {
        "colab": {
          "base_uri": "https://localhost:8080/"
        },
        "id": "y6Xdq8X7cwP4",
        "outputId": "f1da2b73-2250-4d7a-8ea7-70475a8e1caa"
      },
      "execution_count": null,
      "outputs": [
        {
          "output_type": "stream",
          "name": "stdout",
          "text": [
            "{'Mercury': '수성', 'Venus': '금성', 'Earth': '지구', 'Mars': '화성', 'Jupiter': '목성', 'Saturn': '토성', 'Uranus': '천왕성', 'Neptune': '해왕성'}\n",
            "천왕성\n",
            "{'Mercury 수성': 1, 'Venus 금성': 2, 'Earth 지구': 3, 'Mars 화성': 4, 'Jupiter 목성': 5, 'Saturn 토성': 6, 'Uranus 천왕성': 7, 'Neptune 해왕성': 8}\n",
            "2\n"
          ]
        }
      ]
    },
    {
      "cell_type": "code",
      "source": [
        "#@markdown 📌 Print the value of key 'a' ('a' as string data)\n",
        "dict = {'a':1, 'b':2, 'c':3}\n",
        "print (dict)\n",
        "print(dict['a'])\n",
        "print(dict['b'])"
      ],
      "metadata": {
        "colab": {
          "base_uri": "https://localhost:8080/"
        },
        "id": "lDQ9w5Uef2DG",
        "outputId": "a4f7db53-758a-46a7-ec55-fdc450053e3b"
      },
      "execution_count": null,
      "outputs": [
        {
          "output_type": "stream",
          "name": "stdout",
          "text": [
            "{'a': 1, 'b': 2, 'c': 3}\n",
            "1\n",
            "2\n"
          ]
        }
      ]
    },
    {
      "cell_type": "code",
      "source": [
        "dict = {'a':1,'b':2,'c':3}\n",
        "print(dict)\n",
        "\n",
        "dict['a'] = 7\n",
        "dict['c'] = 5\n",
        "print(dict)\n",
        "\n",
        "dict_data={'c':10,'b':20,'a':30}\n",
        "print(dict_data)\n",
        "dict_data['a']=300\n",
        "print(dict_data)"
      ],
      "metadata": {
        "colab": {
          "base_uri": "https://localhost:8080/"
        },
        "id": "A3kLP0UOf2kM",
        "outputId": "d2add674-f2f2-4ef7-ab20-3acd2267212c"
      },
      "execution_count": null,
      "outputs": [
        {
          "output_type": "stream",
          "name": "stdout",
          "text": [
            "{'a': 1, 'b': 2, 'c': 3}\n",
            "{'a': 7, 'b': 2, 'c': 5}\n",
            "{'c': 10, 'b': 20, 'a': 30}\n",
            "{'c': 10, 'b': 20, 'a': 300}\n"
          ]
        }
      ]
    }
  ]
}