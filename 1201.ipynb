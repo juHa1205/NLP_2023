{
  "nbformat": 4,
  "nbformat_minor": 0,
  "metadata": {
    "colab": {
      "provenance": [],
      "authorship_tag": "ABX9TyNC8FhHNRy6tlWDBZNc6FwL",
      "include_colab_link": true
    },
    "kernelspec": {
      "name": "python3",
      "display_name": "Python 3"
    },
    "language_info": {
      "name": "python"
    }
  },
  "cells": [
    {
      "cell_type": "markdown",
      "metadata": {
        "id": "view-in-github",
        "colab_type": "text"
      },
      "source": [
        "<a href=\"https://colab.research.google.com/github/juHa1205/NLP_2023/blob/main/1201.ipynb\" target=\"_parent\"><img src=\"https://colab.research.google.com/assets/colab-badge.svg\" alt=\"Open In Colab\"/></a>"
      ]
    },
    {
      "cell_type": "code",
      "execution_count": 1,
      "metadata": {
        "colab": {
          "base_uri": "https://localhost:8080/"
        },
        "id": "n45t26jjoXAY",
        "outputId": "935af14f-95e5-4b7f-ea86-411ad935a206"
      },
      "outputs": [
        {
          "output_type": "stream",
          "name": "stdout",
          "text": [
            "입력해주세요:Apple\n",
            "[1, 2, 1, 1]\n",
            "p\n"
          ]
        }
      ],
      "source": [
        "lst = []\n",
        "x = input(\"입력해주세요:\").lower()\n",
        "s = list(set(x))\n",
        "\n",
        "for i in s:\n",
        "    lst.append(x.count(i))\n",
        "\n",
        "print(lst)\n",
        "\n",
        "arr = []\n",
        "for i in range(len(lst)):\n",
        "    if lst[i] >= max(lst):\n",
        "        arr.append(s[i])\n",
        "\n",
        "print(\",\".join(arr))"
      ]
    },
    {
      "cell_type": "code",
      "source": [
        "num = input(\"숫자를 입력해주세요:\")\n",
        "\n",
        "if len(num) < 4:\n",
        "    print(num)\n",
        "\n",
        "elif len(num) < 20:\n",
        "    print(format(int(num), \",\"))\n",
        "\n",
        "else:\n",
        "    print(\"숫자가 20자리 이상입니다.\")"
      ],
      "metadata": {
        "colab": {
          "base_uri": "https://localhost:8080/"
        },
        "id": "ZoHh87iko_23",
        "outputId": "92ce347c-f811-4dc9-99c0-2b7c88820219"
      },
      "execution_count": 6,
      "outputs": [
        {
          "output_type": "stream",
          "name": "stdout",
          "text": [
            "숫자를 입력해주세요:12\n",
            "12\n"
          ]
        }
      ]
    },
    {
      "cell_type": "code",
      "source": [
        "import math\n",
        "\n",
        "def grade(n):\n",
        "    if n <= 100 and n>=90:\n",
        "        print(\"해당 과목 등급: A\")\n",
        "    elif n >= 80:\n",
        "        print(\"해당 과목 등급: B\")\n",
        "    elif n >= 70:\n",
        "        print(\"해당 과목 등급: C\")\n",
        "    elif n >= 60:\n",
        "        print(\"해당 과목 등급: D\")\n",
        "    else:\n",
        "        print(\"해당 과목 등급: F\")\n",
        "\n",
        "num = int(input(\"총 과목의 수를 입력해주세요:\"))\n",
        "sum = 0\n",
        "\n",
        "for i in range(num):\n",
        "    score = int(input(\"점수를 입력해주세요:\"))\n",
        "    sum += score\n",
        "    grade(score)\n",
        "\n",
        "avg = math.floor(sum / num)\n",
        "print(\"총 과목의 평균은 {0}점입니다.\".format(avg))8"
      ],
      "metadata": {
        "colab": {
          "base_uri": "https://localhost:8080/"
        },
        "id": "ABe0r26QpMF_",
        "outputId": "4b29bc26-8c21-417c-d952-81e9fe6d34c5"
      },
      "execution_count": 8,
      "outputs": [
        {
          "output_type": "stream",
          "name": "stdout",
          "text": [
            "총 과목의 수를 입력해주세요:2\n",
            "점수를 입력해주세요:98\n",
            "해당 과목 등급: A\n",
            "점수를 입력해주세요:84\n",
            "해당 과목 등급: B\n",
            "총 과목의 평균은 91점입니다.\n"
          ]
        }
      ]
    },
    {
      "cell_type": "code",
      "source": [],
      "metadata": {
        "id": "3-m3vS7opnHS"
      },
      "execution_count": null,
      "outputs": []
    }
  ]
}