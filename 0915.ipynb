{
  "nbformat": 4,
  "nbformat_minor": 0,
  "metadata": {
    "colab": {
      "provenance": [],
      "authorship_tag": "ABX9TyMsYdy7HN/wfXGO+5tM2Bu0",
      "include_colab_link": true
    },
    "kernelspec": {
      "name": "python3",
      "display_name": "Python 3"
    },
    "language_info": {
      "name": "python"
    }
  },
  "cells": [
    {
      "cell_type": "markdown",
      "metadata": {
        "id": "view-in-github",
        "colab_type": "text"
      },
      "source": [
        "<a href=\"https://colab.research.google.com/github/juHa1205/NLP_2023/blob/main/0915.ipynb\" target=\"_parent\"><img src=\"https://colab.research.google.com/assets/colab-badge.svg\" alt=\"Open In Colab\"/></a>"
      ]
    },
    {
      "cell_type": "code",
      "execution_count": 1,
      "metadata": {
        "id": "8Lw2GAnfUlzM"
      },
      "outputs": [],
      "source": [
        "station = \"사당\"\n"
      ]
    },
    {
      "cell_type": "code",
      "source": [
        "print(station + \"행 열차가 들어오고 있습니다\")\n"
      ],
      "metadata": {
        "colab": {
          "base_uri": "https://localhost:8080/"
        },
        "id": "3JhOa2T9L3eu",
        "outputId": "2dc63030-ff81-4754-baf0-cc7038682104"
      },
      "execution_count": 2,
      "outputs": [
        {
          "output_type": "stream",
          "name": "stdout",
          "text": [
            "사당행 열차가 들어오고 있습니다\n"
          ]
        }
      ]
    },
    {
      "cell_type": "code",
      "source": [
        "station = \"신도림\"\n"
      ],
      "metadata": {
        "id": "UgBsOQC5L9cK"
      },
      "execution_count": 3,
      "outputs": []
    },
    {
      "cell_type": "code",
      "source": [
        "print(station + \"행 열차가 들어오고 있습니다\")\n"
      ],
      "metadata": {
        "colab": {
          "base_uri": "https://localhost:8080/"
        },
        "id": "oaS29MrlMCGt",
        "outputId": "e33af445-e147-4e5d-836c-a915f18bade6"
      },
      "execution_count": 5,
      "outputs": [
        {
          "output_type": "stream",
          "name": "stdout",
          "text": [
            "신도림행 열차가 들어오고 있습니다\n"
          ]
        }
      ]
    },
    {
      "cell_type": "code",
      "source": [
        "station = \"인천공항\"\n"
      ],
      "metadata": {
        "id": "LO0U7HhsMH-F"
      },
      "execution_count": 6,
      "outputs": []
    },
    {
      "cell_type": "code",
      "source": [
        "print(station,\"행 열차가 들어오고 있습니다\")\n"
      ],
      "metadata": {
        "colab": {
          "base_uri": "https://localhost:8080/"
        },
        "id": "21QZ7qqBMgVV",
        "outputId": "a9ceabeb-d942-495d-fdc4-bcf6e6a0146d"
      },
      "execution_count": 7,
      "outputs": [
        {
          "output_type": "stream",
          "name": "stdout",
          "text": [
            "인천공항 행 열차가 들어오고 있습니다\n"
          ]
        }
      ]
    },
    {
      "cell_type": "code",
      "source": [
        "#1. 변수에 \"상품 준비\"를 넣었을 때\n",
        "status = \"상품 준비\"\n",
        "print(\"주문상태 :\",status)\n"
      ],
      "metadata": {
        "colab": {
          "base_uri": "https://localhost:8080/"
        },
        "id": "slMLqi8gMig_",
        "outputId": "0a263299-50e6-4328-8e76-c16f8d30f0eb"
      },
      "execution_count": 8,
      "outputs": [
        {
          "output_type": "stream",
          "name": "stdout",
          "text": [
            "주문상태 : 상품 준비\n"
          ]
        }
      ]
    },
    {
      "cell_type": "code",
      "source": [
        "#2. 변수에 \"배송 중\"을 넣었을 때\n",
        "status = \"배송 중\"\n",
        "print(\"주문상태 :\",status)\n"
      ],
      "metadata": {
        "colab": {
          "base_uri": "https://localhost:8080/"
        },
        "id": "KVRFV6AbMlij",
        "outputId": "98d0fc99-e798-4c84-d94e-6dbcb4a27a7b"
      },
      "execution_count": 9,
      "outputs": [
        {
          "output_type": "stream",
          "name": "stdout",
          "text": [
            "주문상태 : 배송 중\n"
          ]
        }
      ]
    },
    {
      "cell_type": "code",
      "source": [
        "#3. 변수에 \"배송 완료\"를 넣었을 때\n",
        "status = \"배송 완료\"\n",
        "print(\"주문상태 :\",status)"
      ],
      "metadata": {
        "colab": {
          "base_uri": "https://localhost:8080/"
        },
        "id": "Zod27xQCMnjI",
        "outputId": "b795584e-a151-4191-e338-cdca2a4a02fe"
      },
      "execution_count": 10,
      "outputs": [
        {
          "output_type": "stream",
          "name": "stdout",
          "text": [
            "주문상태 : 배송 완료\n"
          ]
        }
      ]
    },
    {
      "cell_type": "code",
      "source": [],
      "metadata": {
        "id": "JdYFl23fMqJv"
      },
      "execution_count": null,
      "outputs": []
    }
  ]
}