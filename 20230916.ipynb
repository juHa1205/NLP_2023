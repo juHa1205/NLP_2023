{
  "nbformat": 4,
  "nbformat_minor": 0,
  "metadata": {
    "colab": {
      "provenance": [],
      "authorship_tag": "ABX9TyNa5BkkRavOpP3vsBpSHv85",
      "include_colab_link": true
    },
    "kernelspec": {
      "name": "python3",
      "display_name": "Python 3"
    },
    "language_info": {
      "name": "python"
    }
  },
  "cells": [
    {
      "cell_type": "markdown",
      "metadata": {
        "id": "view-in-github",
        "colab_type": "text"
      },
      "source": [
        "<a href=\"https://colab.research.google.com/github/juHa1205/NLP_2023/blob/main/20230916.ipynb\" target=\"_parent\"><img src=\"https://colab.research.google.com/assets/colab-badge.svg\" alt=\"Open In Colab\"/></a>"
      ]
    },
    {
      "cell_type": "code",
      "execution_count": 1,
      "metadata": {
        "id": "EZLwZLxSLWkB"
      },
      "outputs": [],
      "source": [
        "from random import *"
      ]
    },
    {
      "cell_type": "code",
      "source": [
        "date = randint(4,28)"
      ],
      "metadata": {
        "id": "CfRYcADnLj75"
      },
      "execution_count": 2,
      "outputs": []
    },
    {
      "cell_type": "code",
      "source": [
        "print(\"오프라인 스터디 모임 날짜는 매월 \" + str(date) + \"일로 선정됐습니다.\")\n"
      ],
      "metadata": {
        "colab": {
          "base_uri": "https://localhost:8080/"
        },
        "id": "hBPRXtNbLnlR",
        "outputId": "411f6a02-4f12-4f19-acb6-233386ca8c86"
      },
      "execution_count": 3,
      "outputs": [
        {
          "output_type": "stream",
          "name": "stdout",
          "text": [
            "오프라인 스터디 모임 날짜는 매월 5일로 선정됐습니다.\n"
          ]
        }
      ]
    },
    {
      "cell_type": "code",
      "source": [
        "Ctemp = 30"
      ],
      "metadata": {
        "id": "h3CoVGJDLtq6"
      },
      "execution_count": 4,
      "outputs": []
    },
    {
      "cell_type": "code",
      "source": [
        "Htemp = (Ctemp*9/5)+32\n"
      ],
      "metadata": {
        "id": "zN2vop3HL0Dx"
      },
      "execution_count": 5,
      "outputs": []
    },
    {
      "cell_type": "code",
      "source": [
        "print(\"섭씨 온도 : \"+str(Ctemp))\n"
      ],
      "metadata": {
        "colab": {
          "base_uri": "https://localhost:8080/"
        },
        "id": "BuTwwbefL3kA",
        "outputId": "be8b6a95-29f6-4426-84f6-817a5d050816"
      },
      "execution_count": 6,
      "outputs": [
        {
          "output_type": "stream",
          "name": "stdout",
          "text": [
            "섭씨 온도 : 30\n"
          ]
        }
      ]
    },
    {
      "cell_type": "code",
      "source": [
        "print(\"화씨 온도 : \"+str(Htemp))\n"
      ],
      "metadata": {
        "colab": {
          "base_uri": "https://localhost:8080/"
        },
        "id": "gmmWjSXEL8C8",
        "outputId": "617080b7-2b6a-403b-9bc8-44427af293a2"
      },
      "execution_count": 7,
      "outputs": [
        {
          "output_type": "stream",
          "name": "stdout",
          "text": [
            "화씨 온도 : 86.0\n"
          ]
        }
      ]
    },
    {
      "cell_type": "code",
      "source": [
        "Ctemp = 10\n",
        "Htemp = (Ctemp*9/5)+32\n",
        "print(\"섭씨 온도 : \"+str(Ctemp))\n",
        "print(\"화씨 온도 : \"+str(Htemp))\n"
      ],
      "metadata": {
        "colab": {
          "base_uri": "https://localhost:8080/"
        },
        "id": "r9yQYRrQMAK8",
        "outputId": "ce6f4231-cbef-4f07-93c9-aa4c02c4c42c"
      },
      "execution_count": 8,
      "outputs": [
        {
          "output_type": "stream",
          "name": "stdout",
          "text": [
            "섭씨 온도 : 10\n",
            "화씨 온도 : 50.0\n"
          ]
        }
      ]
    },
    {
      "cell_type": "code",
      "source": [],
      "metadata": {
        "id": "3xE-Qmd9MHbF"
      },
      "execution_count": null,
      "outputs": []
    }
  ]
}