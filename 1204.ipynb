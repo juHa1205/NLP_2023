{
  "nbformat": 4,
  "nbformat_minor": 0,
  "metadata": {
    "colab": {
      "provenance": [],
      "authorship_tag": "ABX9TyOwUp9/s/Obo7ed/uBCbUGL",
      "include_colab_link": true
    },
    "kernelspec": {
      "name": "python3",
      "display_name": "Python 3"
    },
    "language_info": {
      "name": "python"
    }
  },
  "cells": [
    {
      "cell_type": "markdown",
      "metadata": {
        "id": "view-in-github",
        "colab_type": "text"
      },
      "source": [
        "<a href=\"https://colab.research.google.com/github/juHa1205/NLP_2023/blob/main/1204.ipynb\" target=\"_parent\"><img src=\"https://colab.research.google.com/assets/colab-badge.svg\" alt=\"Open In Colab\"/></a>"
      ]
    },
    {
      "cell_type": "code",
      "execution_count": 1,
      "metadata": {
        "id": "ZdQY5WAqR1Wb"
      },
      "outputs": [],
      "source": [
        "list1=[\"1:닥터 스트레인지\",\"2:스플릿\",\"3:럭키\"]"
      ]
    },
    {
      "cell_type": "code",
      "source": [
        "list1=[{\"닥터 스트레인지\":{36.6,7.7}},{\"스플릿\":{18.8,8.1}},{\"럭키\":{12.7,7.6}}]\n",
        "list1\n",
        "list1[0]\n",
        "{'닥터 스트레인지': {36.6, 7.7}}\n",
        "list1[0].values()"
      ],
      "metadata": {
        "colab": {
          "base_uri": "https://localhost:8080/"
        },
        "id": "S_giivm0SGfT",
        "outputId": "5007b158-8a57-45c7-9108-8e7ec5a86240"
      },
      "execution_count": 4,
      "outputs": [
        {
          "output_type": "execute_result",
          "data": {
            "text/plain": [
              "dict_values([{36.6, 7.7}])"
            ]
          },
          "metadata": {},
          "execution_count": 4
        }
      ]
    },
    {
      "cell_type": "code",
      "source": [
        "nums = [1,2,3,4,5,6,7]\n",
        "print(\"max: %d\\nmin: %d\"%(max(nums),min(nums)))"
      ],
      "metadata": {
        "colab": {
          "base_uri": "https://localhost:8080/"
        },
        "id": "U-bYtXO7SUVX",
        "outputId": "16a65107-75d9-4c3b-f92c-a9bc62c336ef"
      },
      "execution_count": 5,
      "outputs": [
        {
          "output_type": "stream",
          "name": "stdout",
          "text": [
            "max: 7\n",
            "min: 1\n"
          ]
        }
      ]
    },
    {
      "cell_type": "code",
      "source": [
        "nums = [2, 3, 1, 7, 10, 4, 5, 8]\n",
        "nums.sort()\n",
        "nums"
      ],
      "metadata": {
        "colab": {
          "base_uri": "https://localhost:8080/"
        },
        "id": "7wdf1LDtSkRK",
        "outputId": "8bcab50c-8dde-4ba6-ddb1-a0d5c88e9470"
      },
      "execution_count": 6,
      "outputs": [
        {
          "output_type": "execute_result",
          "data": {
            "text/plain": [
              "[1, 2, 3, 4, 5, 7, 8, 10]"
            ]
          },
          "metadata": {},
          "execution_count": 6
        }
      ]
    }
  ]
}