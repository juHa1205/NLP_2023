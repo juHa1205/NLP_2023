{
  "nbformat": 4,
  "nbformat_minor": 0,
  "metadata": {
    "colab": {
      "provenance": [],
      "authorship_tag": "ABX9TyM2DX/jTyewscGQhEyeCybr",
      "include_colab_link": true
    },
    "kernelspec": {
      "name": "python3",
      "display_name": "Python 3"
    },
    "language_info": {
      "name": "python"
    }
  },
  "cells": [
    {
      "cell_type": "markdown",
      "metadata": {
        "id": "view-in-github",
        "colab_type": "text"
      },
      "source": [
        "<a href=\"https://colab.research.google.com/github/juHa1205/NLP_2023/blob/main/1022.ipynb\" target=\"_parent\"><img src=\"https://colab.research.google.com/assets/colab-badge.svg\" alt=\"Open In Colab\"/></a>"
      ]
    },
    {
      "cell_type": "code",
      "execution_count": null,
      "metadata": {
        "id": "oq-bJtYSdhu6"
      },
      "outputs": [],
      "source": [
        "# 사용자로부터 문자열 입력 받기\n",
        "input_string = input(\"문자열을 입력하세요: \")\n",
        "\n",
        "# 빈도수를 저장할 딕셔너리 초기화\n",
        "frequency = {}\n",
        "\n",
        "# 문자열 내 각 문자의 빈도수 계산\n",
        "for char in input_string:\n",
        "    if char in frequency:\n",
        "        frequency[char] += 1\n",
        "    else:\n",
        "        frequency[char] = 1\n",
        "\n",
        "# 결과 출력\n",
        "for char, count in frequency.items():\n",
        "    print(f\"{char}: {count}\")"
      ]
    }
  ]
}