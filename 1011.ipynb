{
  "nbformat": 4,
  "nbformat_minor": 0,
  "metadata": {
    "colab": {
      "provenance": [],
      "authorship_tag": "ABX9TyN462jwFO2gXdC4dbtzOO/t",
      "include_colab_link": true
    },
    "kernelspec": {
      "name": "python3",
      "display_name": "Python 3"
    },
    "language_info": {
      "name": "python"
    }
  },
  "cells": [
    {
      "cell_type": "markdown",
      "metadata": {
        "id": "view-in-github",
        "colab_type": "text"
      },
      "source": [
        "<a href=\"https://colab.research.google.com/github/juHa1205/NLP_2023/blob/main/1011.ipynb\" target=\"_parent\"><img src=\"https://colab.research.google.com/assets/colab-badge.svg\" alt=\"Open In Colab\"/></a>"
      ]
    },
    {
      "cell_type": "code",
      "execution_count": 2,
      "metadata": {
        "colab": {
          "base_uri": "https://localhost:8080/"
        },
        "id": "bPaon8Xk18Hn",
        "outputId": "ca4973ba-5e03-485e-e203-66516269911d"
      },
      "outputs": [
        {
          "output_type": "stream",
          "name": "stdout",
          "text": [
            "False\n",
            "True\n"
          ]
        }
      ],
      "source": [
        "def number(a):\n",
        "    if a <= 1:\n",
        "        return False\n",
        "    elif a == 2:\n",
        "        return True\n",
        "    elif a % 2 == 0:\n",
        "        return False\n",
        "    else:\n",
        "        for i in range(3, int(a**0.5) + 1, 2):\n",
        "            if a % i == 0:\n",
        "                return False\n",
        "        return True\n",
        "\n",
        "print(number(6))\n",
        "print(number(17))"
      ]
    }
  ]
}