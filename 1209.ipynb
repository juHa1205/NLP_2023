{
  "nbformat": 4,
  "nbformat_minor": 0,
  "metadata": {
    "colab": {
      "provenance": [],
      "authorship_tag": "ABX9TyOxklrOsloUefkpF2LEZdH0",
      "include_colab_link": true
    },
    "kernelspec": {
      "name": "python3",
      "display_name": "Python 3"
    },
    "language_info": {
      "name": "python"
    }
  },
  "cells": [
    {
      "cell_type": "markdown",
      "metadata": {
        "id": "view-in-github",
        "colab_type": "text"
      },
      "source": [
        "<a href=\"https://colab.research.google.com/github/juHa1205/NLP_2023/blob/main/1209.ipynb\" target=\"_parent\"><img src=\"https://colab.research.google.com/assets/colab-badge.svg\" alt=\"Open In Colab\"/></a>"
      ]
    },
    {
      "cell_type": "code",
      "execution_count": null,
      "metadata": {
        "id": "T8xBlYRWRbNy"
      },
      "outputs": [],
      "source": [
        "# 함수의 return 문\n",
        "# return 문이 있는 함수는 결과로 값을 생성하고 해당 지점에서 함수 실행이 중지됩니다.\n",
        "# return 문이 없는 함수는 계속 실행되지만 암시적으로 None을 반환합니다.\n",
        "# return 문을 사용할지 여부는 함수가 코드의 다른 곳에서 사용할 수 있는 값을 생성하도록 할지 여부에 따라 달라집니다. 결과를 반환할 필요가 없다면 return 문이 없어도 괜찮습니다."
      ]
    },
    {
      "cell_type": "code",
      "source": [
        "def add_txt(t1,t2):\n",
        "  print(t1 + t2)\n",
        "\n",
        "\n",
        "def add_txt(t1, t2):\n",
        "  result = t1 + t2\n",
        "  return result\n",
        "a = add_txt(1,2)\n",
        "print(a)"
      ],
      "metadata": {
        "colab": {
          "base_uri": "https://localhost:8080/"
        },
        "id": "U9FAkpdXVyRi",
        "outputId": "186057e9-3839-4523-fad7-bf1b8252bac8"
      },
      "execution_count": null,
      "outputs": [
        {
          "output_type": "stream",
          "name": "stdout",
          "text": [
            "3\n"
          ]
        }
      ]
    },
    {
      "cell_type": "code",
      "source": [
        "def add_txt(t1,t2):\n",
        "  print(t1 + t2)\n",
        "a = add_txt(1,2)\n",
        "print(a)\n",
        "\n",
        "def add_txt(t1, t2):\n",
        "  result = t1 + t2\n",
        "  return result\n"
      ],
      "metadata": {
        "colab": {
          "base_uri": "https://localhost:8080/"
        },
        "id": "M56u1rOaWH5_",
        "outputId": "183b2e43-0049-4491-b8b9-c2ead489c754"
      },
      "execution_count": null,
      "outputs": [
        {
          "output_type": "stream",
          "name": "stdout",
          "text": [
            "3\n",
            "None\n"
          ]
        }
      ]
    },
    {
      "cell_type": "code",
      "source": [
        "def add_txt(t1, t2):\n",
        "  result = t1 + t2\n",
        "  return result\n",
        "\n",
        "text1 = \"Hello, \"\n",
        "text2 = \"World!\"\n",
        "\n",
        "combined_text = add_txt(text1, text2)\n",
        "\n",
        "print(combined_text)"
      ],
      "metadata": {
        "colab": {
          "base_uri": "https://localhost:8080/"
        },
        "id": "NEVjkwkpWiqr",
        "outputId": "93bf4b66-ac60-4556-813c-8e91dc05ee25"
      },
      "execution_count": null,
      "outputs": [
        {
          "output_type": "stream",
          "name": "stdout",
          "text": [
            "Hello, World!\n"
          ]
        }
      ]
    },
    {
      "cell_type": "code",
      "source": [
        "def add_number(n1, n2):\n",
        "  print(n1, + n2)\n",
        "\n",
        "def add_number(n1, n2):\n",
        "  result = n1 + n2\n",
        "  return result"
      ],
      "metadata": {
        "id": "PcmK6qM0W4yD"
      },
      "execution_count": null,
      "outputs": []
    },
    {
      "cell_type": "markdown",
      "source": [
        "🐹🐾 자리표시자(자리표시자)\n",
        "%d 및 %s는 문자열 형식화에 사용되는 자리 표시자입니다.\n",
        "\n",
        "숫자나 문자열과 같은 특정 값을 삽입하려는 위치를 나타내기 위해 문자열에 사용됩니다. 그 의미는 다음과 같습니다.\n",
        "\n",
        "%d: 정수(십진 정수) 형식을 지정하기 위한 자리 표시자입니다. 문자열에 %d를 사용하면 정수 값으로 대체됩니다.\n",
        "\n",
        "%s: 문자열 형식 지정을 위한 자리 표시자입니다. 문자열에 %s를 사용하면 문자열 값으로 대체됩니다"
      ],
      "metadata": {
        "id": "vp6LcXdtXVW5"
      }
    },
    {
      "cell_type": "code",
      "source": [
        "name = \"Alice\"\n",
        "score = 95\n",
        "age = 18\n",
        "\n",
        "test_result = \"You scored %d on the test. \"%score\n",
        "print(test_result)\n",
        "\n",
        "greeting = \"Hello, %s! You turn to finally %d years old finally.\" %(name, age)\n",
        "print(greeting)\n",
        "\n",
        "print(\"You scored %d on the test.\"%score)\n",
        "print(\"Hello, %s! You turn to finally %d years old finally.\"%(name,age))"
      ],
      "metadata": {
        "colab": {
          "base_uri": "https://localhost:8080/"
        },
        "id": "JkPc-I_5XKbp",
        "outputId": "665b86d6-f580-41d2-b484-d3f0981ec527"
      },
      "execution_count": null,
      "outputs": [
        {
          "output_type": "stream",
          "name": "stdout",
          "text": [
            "You scored 95 on the test. \n",
            "Hello, Alice! You turn to finally 18 years old finally.\n",
            "You scored 95 on the test.\n",
            "Hello, Alice! You turn to finally 18 years old finally.\n"
          ]
        }
      ]
    },
    {
      "cell_type": "code",
      "source": [
        "def add(a,b):\n",
        "  result = a+b\n",
        "  return result\n",
        "\n",
        "num1 = 5\n",
        "num2 = 3\n",
        "\n",
        "sum_result = add(num1, num2)\n",
        "\n",
        "print(\"The sum of %d and %d is %d\" %(num1, num2, sum_result))"
      ],
      "metadata": {
        "colab": {
          "base_uri": "https://localhost:8080/"
        },
        "id": "CwET5pVSYfZb",
        "outputId": "9965af46-c43d-4818-c9fc-8fff1e7a0908"
      },
      "execution_count": null,
      "outputs": [
        {
          "output_type": "stream",
          "name": "stdout",
          "text": [
            "The sum of 5 and 3 is 8\n"
          ]
        }
      ]
    },
    {
      "cell_type": "code",
      "source": [
        "def add_and_print(a,b):\n",
        "  result = a + b\n",
        "  print(\"The sum of %d and %d is %d\" %(a, b, result))\n",
        "  return result\n",
        "\n",
        "sum_result = add_and_print(3,4)"
      ],
      "metadata": {
        "colab": {
          "base_uri": "https://localhost:8080/"
        },
        "id": "HqZc-Tf0Y5cG",
        "outputId": "9c576872-ab44-476f-9998-b70e32955526"
      },
      "execution_count": null,
      "outputs": [
        {
          "output_type": "stream",
          "name": "stdout",
          "text": [
            "The sum of 3 and 4 is 7\n"
          ]
        }
      ]
    },
    {
      "cell_type": "code",
      "source": [
        "def add_txt1(t1,t2='Python'):\n",
        "  print(t1 + \":\" + t2)\n",
        "\n",
        "add_txt1('Best')\n",
        "add_txt1(t1='my friend', t2='Python')\n",
        "add_txt1(t1='My buddy')"
      ],
      "metadata": {
        "colab": {
          "base_uri": "https://localhost:8080/"
        },
        "id": "SXtz7djOZM5S",
        "outputId": "979f63d5-b16c-4d91-b1c9-4718b4d1930b"
      },
      "execution_count": null,
      "outputs": [
        {
          "output_type": "stream",
          "name": "stdout",
          "text": [
            "Best:Python\n",
            "my friend:Python\n",
            "My buddy:Python\n"
          ]
        }
      ]
    },
    {
      "cell_type": "markdown",
      "source": [
        "\n",
        "⚡ 가변 가능성 (*args) 은 내구성의 임시가 예외라면 사용한다.\n",
        "가변 길이 인수(즉, varargs)를 사용하면 함수에 다양한 수의 인수를 전달할 수 있으며 함수는 해당 인수를 유연하게 사용할 수 있습니다.\n",
        "*args 매개변수는 함수에 전달된 모든 위치 인수를 수집하고 함수 내에서 튜플로 액세스할 수 있도록 만듭니다."
      ],
      "metadata": {
        "id": "MjGvDHLKarHy"
      }
    },
    {
      "cell_type": "code",
      "source": [
        "def func_uncertain(*args):\n",
        "  print(args)\n",
        "\n",
        "func_uncertain()\n",
        "\n",
        "func_uncertain(1,2,3)\n",
        "func_uncertain('apple','banana','cherry','date')\n",
        "func_uncertain(True)"
      ],
      "metadata": {
        "colab": {
          "base_uri": "https://localhost:8080/"
        },
        "id": "URtfEMcGamtR",
        "outputId": "b27a7f74-ee70-4c3f-c0e5-3130c3a18967"
      },
      "execution_count": null,
      "outputs": [
        {
          "output_type": "stream",
          "name": "stdout",
          "text": [
            "()\n",
            "(1, 2, 3)\n",
            "('apple', 'banana', 'cherry', 'date')\n",
            "(True,)\n"
          ]
        }
      ]
    },
    {
      "cell_type": "markdown",
      "source": [
        "⚡ 키워드 가변 가능 (**kwargs)는 차후 어떤 노드가 필요지 미확정 노드 때 사용합니다.\n",
        "명명된 인수라고도 알려진 키워드 인수는 값과 함께 매개변수 이름을 지정하는 방식으로 함수에 인수를 전달하는 방법입니다. Python에서는 키워드 인수를 사용하여 값을 제공하는 매개 변수의 이름을 명시적으로 지정함으로써 함수 호출을 보다 명확하고 자체 문서화할 수 있습니다."
      ],
      "metadata": {
        "id": "7ha0XBVpb0SX"
      }
    },
    {
      "cell_type": "code",
      "source": [
        "def func_kwa(width, height, **kwargs):\n",
        "  print(kwargs)\n",
        "\n",
        "func_kwa(10,20)\n",
        "func_kwa(10, 20, depth=30, color='blue')"
      ],
      "metadata": {
        "colab": {
          "base_uri": "https://localhost:8080/"
        },
        "id": "DjG6wB5vbvY7",
        "outputId": "932d5056-887b-4787-b707-d03e16f71ae7"
      },
      "execution_count": null,
      "outputs": [
        {
          "output_type": "stream",
          "name": "stdout",
          "text": [
            "{}\n",
            "{'depth': 30, 'color': 'blue'}\n"
          ]
        }
      ]
    },
    {
      "cell_type": "code",
      "source": [
        "def myfunction():\n",
        "  print('Hello world!')\n",
        "\n",
        "list = [1, 2, myfunction]\n",
        "\n",
        "list[2]()\n",
        "myfunction()"
      ],
      "metadata": {
        "colab": {
          "base_uri": "https://localhost:8080/"
        },
        "id": "lV0H9fRscgOP",
        "outputId": "323fa544-4fdf-46c1-f454-33bb09a7b46f"
      },
      "execution_count": null,
      "outputs": [
        {
          "output_type": "stream",
          "name": "stdout",
          "text": [
            "Hello world!\n",
            "Hello world!\n"
          ]
        }
      ]
    }
  ]
}