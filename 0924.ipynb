{
  "nbformat": 4,
  "nbformat_minor": 0,
  "metadata": {
    "colab": {
      "provenance": [],
      "authorship_tag": "ABX9TyO9sdBfX84TFfvJejufA/l5",
      "include_colab_link": true
    },
    "kernelspec": {
      "name": "python3",
      "display_name": "Python 3"
    },
    "language_info": {
      "name": "python"
    }
  },
  "cells": [
    {
      "cell_type": "markdown",
      "metadata": {
        "id": "view-in-github",
        "colab_type": "text"
      },
      "source": [
        "<a href=\"https://colab.research.google.com/github/juHa1205/NLP_2023/blob/main/0924.ipynb\" target=\"_parent\"><img src=\"https://colab.research.google.com/assets/colab-badge.svg\" alt=\"Open In Colab\"/></a>"
      ]
    },
    {
      "cell_type": "code",
      "execution_count": 7,
      "metadata": {
        "colab": {
          "base_uri": "https://localhost:8080/"
        },
        "id": "mnVyefa4liyB",
        "outputId": "ceb8d744-c4ba-4a6b-d05a-95f996a5af5d"
      },
      "outputs": [
        {
          "output_type": "stream",
          "name": "stdout",
          "text": [
            "무지개색은 빨주노초파남보입니다.\n"
          ]
        }
      ],
      "source": [
        "a='빨강색'\n",
        "b='주황색'\n",
        "c='노랑색'\n",
        "d='초록색'\n",
        "e='파랑색'\n",
        "f='남색'\n",
        "g='보라색'\n",
        "\n",
        "\n",
        "print(\"무지개색은 \"+a[0]+b[0]+c[0]+d[0]+e[0]+f[0]+g[0]+\"입니다.\")\n"
      ]
    }
  ]
}