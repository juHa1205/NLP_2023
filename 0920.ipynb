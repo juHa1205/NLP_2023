{
  "nbformat": 4,
  "nbformat_minor": 0,
  "metadata": {
    "colab": {
      "provenance": [],
      "authorship_tag": "ABX9TyPV5KgFz6i66VvF53C8770O",
      "include_colab_link": true
    },
    "kernelspec": {
      "name": "python3",
      "display_name": "Python 3"
    },
    "language_info": {
      "name": "python"
    }
  },
  "cells": [
    {
      "cell_type": "markdown",
      "metadata": {
        "id": "view-in-github",
        "colab_type": "text"
      },
      "source": [
        "<a href=\"https://colab.research.google.com/github/juHa1205/NLP_2023/blob/main/0920.ipynb\" target=\"_parent\"><img src=\"https://colab.research.google.com/assets/colab-badge.svg\" alt=\"Open In Colab\"/></a>"
      ]
    },
    {
      "cell_type": "code",
      "execution_count": 1,
      "metadata": {
        "id": "RfWx7ON9A38a"
      },
      "outputs": [],
      "source": [
        "a=\"naver\"\n",
        "b=\"daum\"\n",
        "c=\"google\"\n",
        "d=\"youtube\""
      ]
    },
    {
      "cell_type": "code",
      "source": [
        "print(\"http://\"+a+\".com의 비밀번호는\",str(a[0:3])+str(len(a))+str(a.count(\"e\"))+\"!입니다.\")\n",
        "print(\"http://\"+b+\".com의 비밀번호는\",str(b[0:3])+str(len(b))+str(b.count(\"e\"))+\"!입니다.\")\n",
        "print(\"http://\"+c+\".com의 비밀번호는\",str(c[0:3])+str(len(c))+str(c.count(\"e\"))+\"!입니다.\")\n",
        "print(\"http://\"+d+\".com의 비밀번호는\",str(d[0:3])+str(len(d))+str(d.count(\"e\"))+\"!입니다.\")"
      ],
      "metadata": {
        "colab": {
          "base_uri": "https://localhost:8080/"
        },
        "id": "Qg7O9dkfBSmU",
        "outputId": "39cbf32a-2069-48b5-f0a9-f436475decf5"
      },
      "execution_count": 2,
      "outputs": [
        {
          "output_type": "stream",
          "name": "stdout",
          "text": [
            "http://naver.com의 비밀번호는 nav51!입니다.\n",
            "http://daum.com의 비밀번호는 dau40!입니다.\n",
            "http://google.com의 비밀번호는 goo61!입니다.\n",
            "http://youtube.com의 비밀번호는 you71!입니다.\n"
          ]
        }
      ]
    },
    {
      "cell_type": "code",
      "source": [
        "url1 = \"http://google.com\"\n",
        "my_url1 = url1.replace(\"http://\",\"\")\n",
        "my_url1 = my_url1[:my_url1.index(\".\")]\n",
        "password = my_url1[:3] + str(len(my_url1)) + str(my_url1.count(\"e\")) + \"!\"\n",
        "print(str(url1) + \"의 비밀번호는 \" + str(password) + \"입니다.\")"
      ],
      "metadata": {
        "colab": {
          "base_uri": "https://localhost:8080/"
        },
        "id": "i3g6D8XqBXTK",
        "outputId": "f4dc9f33-0eee-4027-813b-1b17afd1e1af"
      },
      "execution_count": 3,
      "outputs": [
        {
          "output_type": "stream",
          "name": "stdout",
          "text": [
            "http://google.com의 비밀번호는 goo61!입니다.\n"
          ]
        }
      ]
    },
    {
      "cell_type": "code",
      "source": [
        "sentence = \"The early bird catches the worm.\"\n",
        "a = sentence[0].upper()\n",
        "b = sentence[1:].lower()\n",
        "print(a+b)\n"
      ],
      "metadata": {
        "colab": {
          "base_uri": "https://localhost:8080/"
        },
        "id": "NAfA5hHKBbaB",
        "outputId": "1d9c7ac2-54f7-4f6d-cef1-ec0d93e3b4ae"
      },
      "execution_count": 4,
      "outputs": [
        {
          "output_type": "stream",
          "name": "stdout",
          "text": [
            "The early bird catches the worm.\n"
          ]
        }
      ]
    },
    {
      "cell_type": "code",
      "source": [],
      "metadata": {
        "id": "xeBFvzmQBfZV"
      },
      "execution_count": null,
      "outputs": []
    }
  ]
}