{
  "nbformat": 4,
  "nbformat_minor": 0,
  "metadata": {
    "colab": {
      "provenance": [],
      "authorship_tag": "ABX9TyNXA97y7VGH2UnrKYNSG7i7",
      "include_colab_link": true
    },
    "kernelspec": {
      "name": "python3",
      "display_name": "Python 3"
    },
    "language_info": {
      "name": "python"
    }
  },
  "cells": [
    {
      "cell_type": "markdown",
      "metadata": {
        "id": "view-in-github",
        "colab_type": "text"
      },
      "source": [
        "<a href=\"https://colab.research.google.com/github/juHa1205/NLP_2023/blob/main/1113.ipynb\" target=\"_parent\"><img src=\"https://colab.research.google.com/assets/colab-badge.svg\" alt=\"Open In Colab\"/></a>"
      ]
    },
    {
      "cell_type": "code",
      "execution_count": 2,
      "metadata": {
        "colab": {
          "base_uri": "https://localhost:8080/"
        },
        "id": "yq9I4lxW_gfT",
        "outputId": "6d875212-516a-4483-cacb-d86042a0143d"
      },
      "outputs": [
        {
          "output_type": "stream",
          "name": "stdout",
          "text": [
            "0.0\n",
            "0.1\n",
            "0.2\n",
            "0.3\n",
            "0.4\n",
            "0.5\n",
            "0.6\n",
            "0.7\n",
            "0.8\n",
            "0.9\n"
          ]
        }
      ],
      "source": [
        "price_list = [32100, 32150, 32000, 32500]\n",
        "\n",
        "for num in range(10) :\n",
        "    print(num / 10)"
      ]
    },
    {
      "cell_type": "code",
      "source": [
        "for i in range(4):\n",
        "    print(price_list[i])"
      ],
      "metadata": {
        "colab": {
          "base_uri": "https://localhost:8080/"
        },
        "id": "n4nWx-6ZFwUt",
        "outputId": "d5593614-0aaf-4486-d932-bcfc3eba7925"
      },
      "execution_count": 3,
      "outputs": [
        {
          "output_type": "stream",
          "name": "stdout",
          "text": [
            "32100\n",
            "32150\n",
            "32000\n",
            "32500\n"
          ]
        }
      ]
    },
    {
      "cell_type": "code",
      "source": [
        "for i in range(len(price_list)):\n",
        "    print(3 - i, price_list[i])"
      ],
      "metadata": {
        "colab": {
          "base_uri": "https://localhost:8080/"
        },
        "id": "Fq0GWgU7F6Tu",
        "outputId": "19464e9d-9ca9-41ee-efdd-21a7d19570c2"
      },
      "execution_count": 4,
      "outputs": [
        {
          "output_type": "stream",
          "name": "stdout",
          "text": [
            "3 32100\n",
            "2 32150\n",
            "1 32000\n",
            "0 32500\n"
          ]
        }
      ]
    },
    {
      "cell_type": "code",
      "source": [
        "for i in range(1, 4):\n",
        "    print(90 + 10 * i, price_list[i])"
      ],
      "metadata": {
        "colab": {
          "base_uri": "https://localhost:8080/"
        },
        "id": "FkSWQH4TGAS2",
        "outputId": "df18e866-a1c5-479e-bb70-b5f200f1797c"
      },
      "execution_count": 5,
      "outputs": [
        {
          "output_type": "stream",
          "name": "stdout",
          "text": [
            "100 32150\n",
            "110 32000\n",
            "120 32500\n"
          ]
        }
      ]
    },
    {
      "cell_type": "code",
      "source": [
        "my_list = [\"가\", \"나\", \"다\", \"라\"]"
      ],
      "metadata": {
        "id": "5HAtNPdSGEdr"
      },
      "execution_count": 6,
      "outputs": []
    },
    {
      "cell_type": "code",
      "source": [
        "print(my_list[0], my_list[1])\n",
        "print(my_list[1], my_list[2])\n",
        "print(my_list[2], my_list[3])"
      ],
      "metadata": {
        "colab": {
          "base_uri": "https://localhost:8080/"
        },
        "id": "9OUCYeN6GHSw",
        "outputId": "aa8bf119-a2b8-4c78-9237-3af8ae26609c"
      },
      "execution_count": 7,
      "outputs": [
        {
          "output_type": "stream",
          "name": "stdout",
          "text": [
            "가 나\n",
            "나 다\n",
            "다 라\n"
          ]
        }
      ]
    },
    {
      "cell_type": "code",
      "source": [
        "for i in [0, 1, 2]:\n",
        "    print(my_list[i])"
      ],
      "metadata": {
        "colab": {
          "base_uri": "https://localhost:8080/"
        },
        "id": "-NGvgb25GMb9",
        "outputId": "593c6dc3-8c9e-4b10-8c4f-8ae1848bca0b"
      },
      "execution_count": 8,
      "outputs": [
        {
          "output_type": "stream",
          "name": "stdout",
          "text": [
            "가\n",
            "나\n",
            "다\n"
          ]
        }
      ]
    },
    {
      "cell_type": "code",
      "source": [
        "for i in [0, 1, 2]:\n",
        "    print(my_list[i], my_list[i+1])"
      ],
      "metadata": {
        "colab": {
          "base_uri": "https://localhost:8080/"
        },
        "id": "aZ-_IYHuGPs4",
        "outputId": "2bff8c9d-5c76-4a91-e099-b28a7dffe22d"
      },
      "execution_count": 9,
      "outputs": [
        {
          "output_type": "stream",
          "name": "stdout",
          "text": [
            "가 나\n",
            "나 다\n",
            "다 라\n"
          ]
        }
      ]
    },
    {
      "cell_type": "code",
      "source": [
        "for i in range( len(my_list) - 1 ) :\n",
        "  print(my_list[i], my_list[i+1])"
      ],
      "metadata": {
        "colab": {
          "base_uri": "https://localhost:8080/"
        },
        "id": "XOgYxVJoGSl9",
        "outputId": "d96f81a0-df53-4f57-e7d0-fac78daa2010"
      },
      "execution_count": 10,
      "outputs": [
        {
          "output_type": "stream",
          "name": "stdout",
          "text": [
            "가 나\n",
            "나 다\n",
            "다 라\n"
          ]
        }
      ]
    },
    {
      "cell_type": "code",
      "source": [
        "for i in range( 1, len(my_list) ) :\n",
        "  print(my_list[i-1], my_list[i])"
      ],
      "metadata": {
        "colab": {
          "base_uri": "https://localhost:8080/"
        },
        "id": "0W1dSQsVGWQQ",
        "outputId": "8c208aab-84b6-4b8f-e815-13862ba01cf5"
      },
      "execution_count": 11,
      "outputs": [
        {
          "output_type": "stream",
          "name": "stdout",
          "text": [
            "가 나\n",
            "나 다\n",
            "다 라\n"
          ]
        }
      ]
    },
    {
      "cell_type": "code",
      "source": [],
      "metadata": {
        "id": "SfNXKcbGGY5g"
      },
      "execution_count": null,
      "outputs": []
    }
  ]
}