{
  "nbformat": 4,
  "nbformat_minor": 0,
  "metadata": {
    "colab": {
      "provenance": [],
      "authorship_tag": "ABX9TyPBuaQ1aEkNkt5mRB5RIji6",
      "include_colab_link": true
    },
    "kernelspec": {
      "name": "python3",
      "display_name": "Python 3"
    },
    "language_info": {
      "name": "python"
    }
  },
  "cells": [
    {
      "cell_type": "markdown",
      "metadata": {
        "id": "view-in-github",
        "colab_type": "text"
      },
      "source": [
        "<a href=\"https://colab.research.google.com/github/juHa1205/NLP_2023/blob/main/1213.ipynb\" target=\"_parent\"><img src=\"https://colab.research.google.com/assets/colab-badge.svg\" alt=\"Open In Colab\"/></a>"
      ]
    },
    {
      "cell_type": "code",
      "execution_count": null,
      "metadata": {
        "id": "Rk4d0xPFpv8s"
      },
      "outputs": [],
      "source": [
        "from sklearn import datasets\n",
        "from sklearn import tree\n",
        "from sklearn.neighbors import KNeighborsClassifier\n",
        "from sklearn.svm import SVC\n",
        "from sklearn.ensemble import VotingClassifier\n",
        "from sklearn.model_selection import train_test_split\n",
        "from sklearn.metrics import accuracy_score"
      ]
    },
    {
      "cell_type": "code",
      "source": [
        "mnist = datasets.load_digits()\n",
        "features, labels = mnist.data, mnist.target\n",
        "X_train,X_test,y_train,y_test = train_test_split(features, labels, test_size = 0.2)"
      ],
      "metadata": {
        "id": "7OVZfIi6qNeb"
      },
      "execution_count": null,
      "outputs": []
    },
    {
      "cell_type": "code",
      "source": [
        "dtree = tree.DecisionTreeClassifier(criterion='gini', max_depth=8,max_features=32,random_state=35)\n",
        "dtree = dtree.fit(X_train, y_train)\n",
        "dtree_predicted = dtree.predict(X_test)\n",
        "\n",
        "knn = KNeighborsClassifier(n_neighbors=299).fit(X_train, y_train)\n",
        "knn_predicted = knn.predict(X_test)\n",
        "\n",
        "svm = SVC(C=0.1, gamma=0.003, probability = True, random_state = 35).fit(X_train,y_train)\n",
        "svm_predicted = svm.predict(X_test)\n",
        "print(\"[accuracy]\")\n",
        "print(\"d-tree: \",accuracy_score(y_test, dtree_predicted))\n",
        "print(\"knn   : \",accuracy_score(y_test, knn_predicted))\n",
        "print(\"svm   : \",accuracy_score(y_test, svm_predicted))"
      ],
      "metadata": {
        "colab": {
          "base_uri": "https://localhost:8080/"
        },
        "id": "MDGAOv7iqwfs",
        "outputId": "0f79282a-ea71-40e9-ca63-6e31a4a878e7"
      },
      "execution_count": null,
      "outputs": [
        {
          "output_type": "stream",
          "name": "stdout",
          "text": [
            "[accuracy]\n",
            "d-tree:  0.8055555555555556\n",
            "knn   :  0.8722222222222222\n",
            "svm   :  0.9277777777777778\n"
          ]
        }
      ]
    },
    {
      "cell_type": "code",
      "source": [
        "voting_clf = VotingClassifier(estimators=[\n",
        "    ('decision_tree', dtree), ('knn',knn), ('svm',svm)],\n",
        "    weights=[1,1,1], voting='hard').fit(X_train,y_train)\n",
        "\n",
        "hard_voting_predicted = voting_clf.predict(X_test)\n",
        "accuracy_score(y_test, hard_voting_predicted)\n"
      ],
      "metadata": {
        "colab": {
          "base_uri": "https://localhost:8080/"
        },
        "id": "Af3ghtKysh0T",
        "outputId": "b72a1872-8273-4fa8-f1e9-bc392ec25662"
      },
      "execution_count": null,
      "outputs": [
        {
          "output_type": "execute_result",
          "data": {
            "text/plain": [
              "0.9277777777777778"
            ]
          },
          "metadata": {},
          "execution_count": 8
        }
      ]
    },
    {
      "cell_type": "code",
      "source": [
        "voting_clf = VotingClassifier(estimators=[\n",
        "    ('decision_tree', dtree), ('knn', knn), ('svm', svm)],\n",
        "     weights=[1,1,1],voting='soft').fit(X_train,y_train)\n",
        "\n",
        "soft_voting_predicted = voting_clf.predict(X_test)\n",
        "accuracy_score(y_test, soft_voting_predicted)"
      ],
      "metadata": {
        "colab": {
          "base_uri": "https://localhost:8080/"
        },
        "id": "qjUOwv1Jw7wg",
        "outputId": "54eff073-e293-4b63-f369-5e8940e9bdb7"
      },
      "execution_count": null,
      "outputs": [
        {
          "output_type": "execute_result",
          "data": {
            "text/plain": [
              "0.8916666666666667"
            ]
          },
          "metadata": {},
          "execution_count": 9
        }
      ]
    },
    {
      "cell_type": "code",
      "source": [
        "import matplotlib.pyplot as plt\n",
        "import numpy as np\n",
        "%matplotlib inline\n",
        "\n",
        "x = np.arange(5)\n",
        "plt.bar(x, height = [accuracy_score(y_test, dtree_predicted),\n",
        "                     accuracy_score(y_test, knn_predicted),\n",
        "                     accuracy_score(y_test, svm_predicted),\n",
        "                     accuracy_score(y_test, hard_voting_predicted),\n",
        "                     accuracy_score(y_test, soft_voting_predicted)])\n",
        "plt.xticks(x,['decision tree','knn','svm','hard voting','soft voting']);"
      ],
      "metadata": {
        "colab": {
          "base_uri": "https://localhost:8080/",
          "height": 430
        },
        "id": "hQRiqT-rxppu",
        "outputId": "c15608d1-c02c-47bc-905d-2d7a0cd3c9b4"
      },
      "execution_count": null,
      "outputs": [
        {
          "output_type": "display_data",
          "data": {
            "text/plain": [
              "<Figure size 640x480 with 1 Axes>"
            ],
            "image/png": "[encoded data removed]"
          },
          "metadata": {}
        }
      ]
    }
  ]
}