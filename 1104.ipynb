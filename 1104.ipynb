{
  "nbformat": 4,
  "nbformat_minor": 0,
  "metadata": {
    "colab": {
      "provenance": [],
      "authorship_tag": "ABX9TyOYD35Y7Y10VVcAsrUKYV4E",
      "include_colab_link": true
    },
    "kernelspec": {
      "name": "python3",
      "display_name": "Python 3"
    },
    "language_info": {
      "name": "python"
    }
  },
  "cells": [
    {
      "cell_type": "markdown",
      "metadata": {
        "id": "view-in-github",
        "colab_type": "text"
      },
      "source": [
        "<a href=\"https://colab.research.google.com/github/juHa1205/NLP_2023/blob/main/1104.ipynb\" target=\"_parent\"><img src=\"https://colab.research.google.com/assets/colab-badge.svg\" alt=\"Open In Colab\"/></a>"
      ]
    },
    {
      "cell_type": "code",
      "execution_count": 2,
      "metadata": {
        "id": "tdgKqeYNXY6l"
      },
      "outputs": [],
      "source": [
        "#교통 과속 프로그램\n",
        "#첫차: 오전 6시, 막차: 오후 23시 운행종료\n",
        "#A버스 : 15분 간격 운행\n",
        "#B버스 : 13분 간격 운행\n",
        "\n",
        "#첫차 : 6시 20분#\n",
        "#막차 : 오후 22시\n",
        "#C버스 : 8분 간격 운행\n",
        "\n",
        "#집앞 버스 정류장에서 학교까지 가는 버스 A, B,C의운행정보가 다음과 같을 때, 2대 이상의 버스가 정차하는 시간대"
      ]
    },
    {
      "cell_type": "code",
      "source": [
        "#버스 간격\n",
        "stepA = 15\n",
        "stepB = 13\n",
        "stepC = 8\n",
        "\n",
        "for i in range(60 * 17+1):\n",
        "    if 20 < i <= 60 * 16:\n",
        "        if i % stepA == 0 and i % stepC == 0:\n",
        "            print(f'BUS A | BUS C 동시 운행\\t : \\t{(60 * 6 + i) // 60}시 {(60 * 6 + i) % 60}분 ')\n",
        "        if i % stepC == 0 and i % stepB == 0:\n",
        "            print(f'BUS B | BUS C 동시 운행\\t : \\t{(60 * 6 + i) // 60}시 {(60 * 6 + i) % 60}분 ')\n",
        "\n",
        "    if i % stepA == 0 and i % stepB == 0:\n",
        "        print(f'BUS A | BUS B 동시 운행\\t : \\t{(60 * 6 + i) // 60}시 {(60 * 6 + i) % 60}분 ')"
      ],
      "metadata": {
        "colab": {
          "base_uri": "https://localhost:8080/"
        },
        "id": "kYwBi_r2YUNZ",
        "outputId": "252c1ea2-bdd7-47ba-8321-130d7b9e266d"
      },
      "execution_count": 3,
      "outputs": [
        {
          "output_type": "stream",
          "name": "stdout",
          "text": [
            "BUS A | BUS B 동시 운행\t : \t6시 0분 \n",
            "BUS B | BUS C 동시 운행\t : \t7시 44분 \n",
            "BUS A | BUS C 동시 운행\t : \t8시 0분 \n",
            "BUS A | BUS B 동시 운행\t : \t9시 15분 \n",
            "BUS B | BUS C 동시 운행\t : \t9시 28분 \n",
            "BUS A | BUS C 동시 운행\t : \t10시 0분 \n",
            "BUS B | BUS C 동시 운행\t : \t11시 12분 \n",
            "BUS A | BUS C 동시 운행\t : \t12시 0분 \n",
            "BUS A | BUS B 동시 운행\t : \t12시 30분 \n",
            "BUS B | BUS C 동시 운행\t : \t12시 56분 \n",
            "BUS A | BUS C 동시 운행\t : \t14시 0분 \n",
            "BUS B | BUS C 동시 운행\t : \t14시 40분 \n",
            "BUS A | BUS B 동시 운행\t : \t15시 45분 \n",
            "BUS A | BUS C 동시 운행\t : \t16시 0분 \n",
            "BUS B | BUS C 동시 운행\t : \t16시 24분 \n",
            "BUS A | BUS C 동시 운행\t : \t18시 0분 \n",
            "BUS B | BUS C 동시 운행\t : \t18시 8분 \n",
            "BUS A | BUS B 동시 운행\t : \t19시 0분 \n",
            "BUS B | BUS C 동시 운행\t : \t19시 52분 \n",
            "BUS A | BUS C 동시 운행\t : \t20시 0분 \n",
            "BUS B | BUS C 동시 운행\t : \t21시 36분 \n",
            "BUS A | BUS C 동시 운행\t : \t22시 0분 \n",
            "BUS A | BUS B 동시 운행\t : \t22시 15분 \n"
          ]
        }
      ]
    },
    {
      "cell_type": "code",
      "source": [],
      "metadata": {
        "id": "vl9IZXLUY1TJ"
      },
      "execution_count": null,
      "outputs": []
    }
  ]
}